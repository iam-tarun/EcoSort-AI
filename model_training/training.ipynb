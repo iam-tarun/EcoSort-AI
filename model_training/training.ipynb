{
 "cells": [
  {
   "cell_type": "markdown",
   "id": "3e7860f0",
   "metadata": {},
   "source": [
    "# EcoSort AI Model Training"
   ]
  },
  {
   "cell_type": "markdown",
   "id": "e2cbaa28",
   "metadata": {},
   "source": [
    "## Configurations"
   ]
  },
  {
   "cell_type": "code",
   "execution_count": 48,
   "id": "f565fd26",
   "metadata": {},
   "outputs": [],
   "source": [
    "BATCH_SIZE = 128\n",
    "LR = 1e-3"
   ]
  },
  {
   "cell_type": "code",
   "execution_count": 35,
   "id": "5605c8c7",
   "metadata": {},
   "outputs": [
    {
     "data": {
      "text/plain": [
       "'mps'"
      ]
     },
     "execution_count": 35,
     "metadata": {},
     "output_type": "execute_result"
    }
   ],
   "source": [
    "import torch\n",
    "device = 'mps' if torch.backends.mps.is_available() else 'cpu'\n",
    "device"
   ]
  },
  {
   "cell_type": "markdown",
   "id": "b753b387",
   "metadata": {},
   "source": [
    "## Custom Dataset Creation\n",
    "#### Dataset [link](https://www.kaggle.com/datasets/mostafaabla/garbage-classification)\n",
    "#### Dividing the dataset into four main classes\n",
    "- Recyclable\n",
    "- Non-Recyclable\n",
    "- Hazardous\n",
    "- BioDegradable"
   ]
  },
  {
   "cell_type": "code",
   "execution_count": 32,
   "id": "b2adf4e7",
   "metadata": {},
   "outputs": [],
   "source": [
    "# imports\n",
    "from torch.utils.data import DataLoader, random_split\n",
    "from torchvision.transforms import v2\n",
    "import torch\n",
    "from torchvision.datasets import ImageFolder\n",
    "from torchvision.models import efficientnet, EfficientNet_B0_Weights"
   ]
  },
  {
   "cell_type": "markdown",
   "id": "07241e4c",
   "metadata": {},
   "source": [
    "##### Adding Image Transformations"
   ]
  },
  {
   "cell_type": "code",
   "execution_count": 43,
   "id": "c2824773",
   "metadata": {},
   "outputs": [],
   "source": [
    "training_transformations = v2.Compose([\n",
    "  v2.RandomResizedCrop(size=(224, 224), antialias=True),\n",
    "  v2.RandomHorizontalFlip(p=0.5),\n",
    "  v2.ToImage(),\n",
    "  v2.ToDtype(torch.float32, scale=True),\n",
    "  v2.Normalize(mean=[0.485, 0.456, 0.406], std=[0.229, 0.224, 0.225])\n",
    "])\n",
    "\n",
    "val_test_transformations = v2.Compose([\n",
    "  v2.Resize(size=256, antialias=True),\n",
    "  v2.CenterCrop(224),\n",
    "  v2.ToImage(),\n",
    "  v2.ToDtype(torch.float32, scale=True),\n",
    "  v2.Normalize(mean=[0.485, 0.456, 0.406], std=[0.229, 0.224, 0.225])\n",
    "])"
   ]
  },
  {
   "cell_type": "markdown",
   "id": "59c140f7",
   "metadata": {},
   "source": [
    "##### Creating Custom Dataset"
   ]
  },
  {
   "cell_type": "code",
   "execution_count": 44,
   "id": "f7e77d29",
   "metadata": {},
   "outputs": [
    {
     "name": "stdout",
     "output_type": "stream",
     "text": [
      "train size - 10860\n",
      "val size - 2327\n",
      "test size - 2328\n"
     ]
    }
   ],
   "source": [
    "generator = torch.Generator().manual_seed(7)\n",
    "\n",
    "dataset = ImageFolder(root='../data', transform=training_transformations)\n",
    "\n",
    "train_size = int(0.7 * len(dataset))\n",
    "val_size = int(0.15 * len(dataset))\n",
    "test_size = len(dataset) - train_size - val_size\n",
    "\n",
    "print(\"train size - \" + str(train_size))\n",
    "print(\"val size - \" + str(val_size))\n",
    "print(\"test size - \" + str(test_size))\n",
    "\n",
    "train_ds, val_ds, test_ds =  random_split(dataset, [train_size, val_size, test_size])"
   ]
  },
  {
   "cell_type": "markdown",
   "id": "89bfdb5b",
   "metadata": {},
   "source": [
    "- Creating the Dataloader"
   ]
  },
  {
   "cell_type": "code",
   "execution_count": 45,
   "id": "691f6f89",
   "metadata": {},
   "outputs": [],
   "source": [
    "train_dataloader = DataLoader(train_ds, batch_size=BATCH_SIZE, shuffle=True)\n",
    "val_dataloader = DataLoader(val_ds, batch_size=BATCH_SIZE, shuffle=True)\n",
    "test_dataloader = DataLoader(test_ds, batch_size=BATCH_SIZE, shuffle=True)"
   ]
  },
  {
   "cell_type": "markdown",
   "id": "f7e9bb35",
   "metadata": {},
   "source": [
    "## Setting up the Model for fine tuning\n",
    "- Using the EfficientNetB0 model for this project [link](https://arxiv.org/abs/1905.11946)"
   ]
  },
  {
   "cell_type": "code",
   "execution_count": 22,
   "id": "6b981dd0",
   "metadata": {},
   "outputs": [],
   "source": [
    "model = efficientnet.efficientnet_b0(weights=EfficientNet_B0_Weights.IMAGENET1K_V1, progress=True)"
   ]
  },
  {
   "cell_type": "markdown",
   "id": "e5610a59",
   "metadata": {},
   "source": [
    "- Updating the final linear layer so that model learns to classify images into required four categories"
   ]
  },
  {
   "cell_type": "code",
   "execution_count": 49,
   "id": "85efcb91",
   "metadata": {},
   "outputs": [],
   "source": [
    "model.classifier[1] = torch.nn.Linear(in_features=1280, out_features=4)"
   ]
  },
  {
   "cell_type": "markdown",
   "id": "ffaad2d9",
   "metadata": {},
   "source": [
    "## Training Loop"
   ]
  },
  {
   "cell_type": "code",
   "execution_count": 50,
   "id": "2c09c2e5",
   "metadata": {},
   "outputs": [],
   "source": [
    "loss_fn = torch.nn.CrossEntropyLoss()\n",
    "optimizer = torch.optim.Adam(params=model.parameters(), lr=LR)"
   ]
  },
  {
   "cell_type": "code",
   "execution_count": 51,
   "id": "4fb7b69d",
   "metadata": {},
   "outputs": [],
   "source": [
    "def train_epoch(model, loss_fn, optimizer, train_dataloader, device):\n",
    "  model.train()\n",
    "  model.to(device)\n",
    "  total_loss = 0\n",
    "  for inputs, labels in train_dataloader:\n",
    "    inputs = inputs.to(device)\n",
    "    labels = labels.to(device)\n",
    "    \n",
    "    preds = model(inputs)\n",
    "    \n",
    "    optimizer.zero_grad()\n",
    "    \n",
    "    loss = loss_fn(preds, labels)\n",
    "    loss.backward()\n",
    "    \n",
    "    optimizer.step()\n",
    "    \n",
    "    total_loss += loss.item()\n",
    "\n",
    "  return total_loss/len(train_dataloader)"
   ]
  },
  {
   "cell_type": "code",
   "execution_count": 52,
   "id": "fc4369d6",
   "metadata": {},
   "outputs": [],
   "source": [
    "def val_epoch(model, loss_fn, val_dataloader, device):\n",
    "  with torch.no_grad():\n",
    "    model.eval()\n",
    "    model.to(device)\n",
    "    total_loss = 0\n",
    "    for inputs, labels in val_dataloader:\n",
    "      inputs = inputs.to(device)\n",
    "      labels = labels.to(device)\n",
    "      \n",
    "      preds = model(inputs)      \n",
    "      \n",
    "      loss = loss_fn(preds, labels)\n",
    "            \n",
    "      total_loss += loss.item()\n",
    "\n",
    "    return total_loss/len(val_dataloader)"
   ]
  },
  {
   "cell_type": "code",
   "execution_count": 53,
   "id": "ef35a77e",
   "metadata": {},
   "outputs": [],
   "source": [
    "epochs = 1"
   ]
  },
  {
   "cell_type": "code",
   "execution_count": 54,
   "id": "7cd4a384",
   "metadata": {},
   "outputs": [
    {
     "name": "stdout",
     "output_type": "stream",
     "text": [
      "Epoch::1  ::::::  Train Loss::0.2760  ::::::  Val Loss::0.2315\n"
     ]
    }
   ],
   "source": [
    "for epoch in range(epochs):\n",
    "  train_loss = train_epoch(model, loss_fn, optimizer, train_dataloader, device)\n",
    "  val_loss = val_epoch(model, loss_fn, val_dataloader, device)\n",
    "\n",
    "  print(f\"Epoch::{epoch+1}  ::::::  Train Loss::{train_loss:.4f}  ::::::  Val Loss::{val_loss:.4f}\")"
   ]
  },
  {
   "cell_type": "code",
   "execution_count": null,
   "id": "0e7966a9",
   "metadata": {},
   "outputs": [],
   "source": []
  }
 ],
 "metadata": {
  "kernelspec": {
   "display_name": ".venv",
   "language": "python",
   "name": "python3"
  },
  "language_info": {
   "codemirror_mode": {
    "name": "ipython",
    "version": 3
   },
   "file_extension": ".py",
   "mimetype": "text/x-python",
   "name": "python",
   "nbconvert_exporter": "python",
   "pygments_lexer": "ipython3",
   "version": "3.11.11"
  }
 },
 "nbformat": 4,
 "nbformat_minor": 5
}
